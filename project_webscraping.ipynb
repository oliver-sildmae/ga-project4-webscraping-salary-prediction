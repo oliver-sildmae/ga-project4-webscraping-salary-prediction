{
 "cells": [
  {
   "cell_type": "markdown",
   "metadata": {
    "focus": false,
    "id": "69b9a648-bcc7-490d-9f9b-ea244d156bd6"
   },
   "source": [
    "---\n",
    "# Web scraping Indeed.com to predict salaries\n",
    "### Oliver Sildmäe"
   ]
  },
  {
   "cell_type": "markdown",
   "metadata": {},
   "source": [
    "---"
   ]
  },
  {
   "cell_type": "markdown",
   "metadata": {},
   "source": [
    "## Problem statement and goal"
   ]
  },
  {
   "cell_type": "markdown",
   "metadata": {
    "focus": false,
    "id": "34681254-c802-462f-829d-8894d0772d08"
   },
   "source": [
    "This project was undertaken primarily to practise web scraping for data.\n",
    "\n",
    "First, Indeed.com will be scraped to obtain salary information on data science jobs across various US cities. Then, using the location, title and summary of the job we will attempt to predict the salary of jobs based on these features. \n",
    "\n",
    "While most listings on Indeed.com do not have salary information, being able to accurately extrapolate or predict the expected salaries from other listings would be extremely useful for job listing sites, providing extremely important additional information to their users."
   ]
  },
  {
   "cell_type": "markdown",
   "metadata": {},
   "source": [
    "## Imports and settings"
   ]
  },
  {
   "cell_type": "code",
   "execution_count": null,
   "metadata": {},
   "outputs": [],
   "source": [
    "import pandas as pd\n",
    "import numpy as np\n",
    "import requests\n",
    "from bs4 import BeautifulSoup\n",
    "import re\n",
    "\n",
    "from sklearn.linear_model import LogisticRegression\n",
    "from sklearn.ensemble import RandomForestClassifier\n",
    "from sklearn.metrics import accuracy_score, classification_report, roc_curve, auc, confusion_matrix\n",
    "from sklearn.model_selection import train_test_split, cross_val_score, GridSearchCV\n",
    "from sklearn.metrics import precision_recall_curve\n",
    "\n",
    "import seaborn as sns\n",
    "import matplotlib.pyplot as plt\n",
    "plt.style.use('ggplot')\n",
    "sns.set(font_scale=1.5)\n",
    "%config InlineBackend.figure_format = 'retina'\n",
    "%matplotlib inline"
   ]
  },
  {
   "cell_type": "markdown",
   "metadata": {
    "focus": false,
    "id": "a948d79c-5527-4c0d-ab23-f5d43ce72056"
   },
   "source": [
    "## Scraping job listings from Indeed.com with Beautifulsoup"
   ]
  },
  {
   "cell_type": "markdown",
   "metadata": {
    "focus": false,
    "id": "9732c901-ae26-4160-8376-42e22dd327df"
   },
   "source": [
    "To obtain a first look at how the page is structured, the `requests` package imported above is used to setup a request to the URL below. BeautifulSoup is then used  to parse the page and extract all results\n",
    "\n",
    "The test URL below has a number of query parameters:<br>\n",
    "https://www.indeed.com/jobs?q=data+scientist+$20,000&l=New+York&start=10\n",
    "\n",
    "- `q` stands for the job search\n",
    "- This is followed by 'data+scientist', inputting the words as a search term\n",
    "- This is followed by \"+20,000\" to return results with salaries (or expected salaries >$20,000)\n",
    "- `l` stands for a location, with 'New+York' specifying the location for this search\n",
    "- `start` is used to define  what result number to start on (e.g. '00' for page 1, '10' for page 2, etc.)"
   ]
  },
  {
   "cell_type": "markdown",
   "metadata": {
    "focus": false,
    "id": "bb0b866a-26a7-45e9-8084-5a0f90eb4b3e"
   },
   "source": [
    "An example extracted result is dsplayed below:\n",
    "\n",
    "```\n",
    "<div class=\" row result\" data-jk=\"2480d203f7e97210\" data-tn-component=\"organicJob\" id=\"p_2480d203f7e97210\" itemscope=\"\" itemtype=\"http://schema.org/JobPosting\">\n",
    "<h2 class=\"jobtitle\" id=\"jl_2480d203f7e97210\">\n",
    "<a class=\"turnstileLink\" data-tn-element=\"jobTitle\" onmousedown=\"return rclk(this,jobmap[0],1);\" rel=\"nofollow\" target=\"_blank\" title=\"AVP/Quantitative Analyst\">AVP/Quantitative Analyst</a>\n",
    "</h2>\n",
    "<span class=\"company\" itemprop=\"hiringOrganization\" itemtype=\"http://schema.org/Organization\">\n",
    "<span itemprop=\"name\">\n",
    "<a href=\"/cmp/Alliancebernstein?from=SERP&amp;campaignid=serp-linkcompanyname&amp;fromjk=2480d203f7e97210&amp;jcid=b374f2a780e04789\" target=\"_blank\">\n",
    "    AllianceBernstein</a></span>\n",
    "</span>\n",
    "<tr>\n",
    "<td class=\"snip\">\n",
    "<nobr>$117,500 - $127,500 a year</nobr>\n",
    "<div>\n",
    "<span class=\"summary\" itemprop=\"description\">\n",
    "C onduct quantitative and statistical research as well as portfolio management for various investment portfolios. Collaborate with Quantitative Analysts and</span>\n",
    "</div>\n",
    "</div>\n",
    "</td>\n",
    "</tr>\n",
    "</table>\n",
    "</div>\n",
    "```\n",
    "\n",
    "While this has some more verbose elements removed, we can see that there is some structure to the above:\n",
    "- The salary is available in a `nobr` element inside of a `td` element with `class='snip'`.\n",
    "- The title of a job is in a link with class set to `jobtitle` and a `data-tn-element='jobTitle'`.  \n",
    "- The location is set in a `span` with `class='location'`. \n",
    "- The company is set in a `span` with `class='company'`. "
   ]
  },
  {
   "cell_type": "markdown",
   "metadata": {
    "focus": false,
    "id": "f1eddb90-4ba8-483c-a229-77e93aa53119"
   },
   "source": [
    "#### Writing functions to extract each item of interest: location, company, job, and salary"
   ]
  },
  {
   "cell_type": "code",
   "execution_count": null,
   "metadata": {},
   "outputs": [],
   "source": [
    "# Will return, from the soup specified in the 'result' input, the data specified in the 'item' input.\n",
    "## This function will be part of a larger function below, one that will loop through various 'result'\n",
    "## and 'item' input combinations\n",
    "\n",
    "def extract_from_soup(result, item):\n",
    "    # Four cases for each of the data types we're interested in (location, salary, company, job title)\n",
    "    if item == 'location':\n",
    "        try:\n",
    "            return result.find('span', class_='location').text\n",
    "        except:\n",
    "            return 'None found'\n",
    "    if item == 'salary':\n",
    "        try:\n",
    "            return result.find('td', class_='snip').find('span', class_='no-wrap').text.strip()\n",
    "        except:\n",
    "            return 'None found'\n",
    "    if item == 'company':\n",
    "        try:\n",
    "            return result.find('span', class_='company').text.strip()\n",
    "        except:\n",
    "            return 'None found'\n",
    "    if item == 'job':\n",
    "        try:\n",
    "            return result.find('h2', class_ = \"jobtitle\").find('a').get('title')\n",
    "        except:\n",
    "            return 'None found'"
   ]
  },
  {
   "cell_type": "code",
   "execution_count": 260,
   "metadata": {},
   "outputs": [
    {
     "name": "stdout",
     "output_type": "stream",
     "text": [
      "IBM\n",
      "HBO\n",
      "Callière Group\n",
      "S&P Global Ratings\n",
      "DEPT OF INFO TECH & TELECOMM\n",
      "Dow Jones\n",
      "Alliant Insight\n",
      "Smartly\n",
      "Viacom\n",
      "Alliant Insight\n"
     ]
    }
   ],
   "source": [
    "# Manually testing the function above with a specified result\n",
    "url = \"https://www.indeed.com/jobs?q=data+scientist+$20,000&l=New+York&start=00\"\n",
    "r = requests.get(url)\n",
    "soup = BeautifulSoup(r.text, 'html.parser')\n",
    "test_result = soup.find_all('div', attrs={'data-tn-component':'organicJob'})\n",
    "\n",
    "# Testing the function. Looping through the 10 job listings on the specified Indeed.com page and\n",
    "# extracting the company name from each of them.\n",
    "for i in test_result:\n",
    "    print(extract_from_soup(i, 'company'))\n",
    "\n",
    "#Results below:"
   ]
  },
  {
   "cell_type": "markdown",
   "metadata": {
    "focus": false,
    "id": "e8beed7c-3e42-40c0-810f-5f67f8f885a0"
   },
   "source": [
    "#### Doing the big scrape for all listings we'll need"
   ]
  },
  {
   "cell_type": "code",
   "execution_count": 7,
   "metadata": {
    "focus": false,
    "id": "04b0f9af-540e-402f-8292-81748707c676"
   },
   "outputs": [
    {
     "name": "stdout",
     "output_type": "stream",
     "text": [
      "Chicago done...\n",
      "Miami done...\n",
      "Philadelphia done...\n",
      "Seattle done...\n",
      "San+Francisco done...\n",
      "Los+Angeles done...\n",
      "Austin done...\n",
      "Pittsburgh done...\n",
      "Denver done...\n",
      "Phoenix done...\n",
      "Portland done...\n",
      "Houston done...\n",
      "Atlanta done...\n",
      "Dallas done...\n",
      "Honolulu done...\n",
      "New+York done...\n",
      "ALL DONE\n"
     ]
    }
   ],
   "source": [
    "results = []\n",
    "failures = []\n",
    "\n",
    "# Specifying the cities which will be searched and looping through each of them\n",
    "for city in set(['New+York', 'Chicago', 'San+Francisco', 'Austin', 'Seattle', \n",
    "                'Los+Angeles', 'Philadelphia', 'Atlanta', 'Dallas', 'Pittsburgh', \n",
    "                'Portland', 'Phoenix', 'Denver', 'Houston', 'Miami', 'Honolulu']):\n",
    "    \n",
    "    # Setting the maximum results per city to the amount of jobs on the website in given city\n",
    "    # (if not done, it will keep reloading and replicating the last page for each city ad infinitum)\n",
    "    r = requests.get(F'http://www.indeed.com/jobs?q=data+scientist+$20,000&l={city}&start=00')\n",
    "    soup = BeautifulSoup(r.text, 'html.parser')\n",
    "    max_results_per_city = soup.find('div', attrs = {'id':'searchCount'}).text\n",
    "    max_results_per_city = max_results_per_city.split(' ')\n",
    "    max_results_per_city = int(max_results_per_city[-2].replace(',',''))\n",
    "    \n",
    "    # If more than 1000 results per city, set the limit at 1000 to save time scraping\n",
    "    # (this step should be ignored if there's interst in more than 1000 listings per city)\n",
    "    if max_results_per_city > 1000:\n",
    "        max_results_per_city = 1000\n",
    "    \n",
    "    for start in range(0, max_results_per_city, 10):\n",
    "        # Loop through the limit of results defined for each city above, swapping 'city' and\n",
    "        # 'start' at each iteration\n",
    "        URL = F'http://www.indeed.com/jobs?q=data+scientist+%2420%2C000&l={city}&start={start}'\n",
    "        try:\n",
    "            r = requests.get(URL)\n",
    "            soup = BeautifulSoup(r.text, 'html.parser')\n",
    "            # Append to the full set of results\n",
    "            results.append(soup)\n",
    "        except: \n",
    "            # If failure, keep a list of failed URLS (append)\n",
    "            failures.append(r)\n",
    "            \n",
    "    # Print city name to keep track of scraping progress\n",
    "    print(f'{city} done...')\n",
    "print('ALL DONE')    "
   ]
  },
  {
   "cell_type": "markdown",
   "metadata": {
    "focus": false,
    "id": "20339c09-5032-4e27-91be-286e9b46cd13"
   },
   "source": [
    "#### Using the function defined above to parse out the four fields of interest - location, title, company and salary - from the results just scraped"
   ]
  },
  {
   "cell_type": "code",
   "execution_count": 49,
   "metadata": {},
   "outputs": [],
   "source": [
    "jobs = []\n",
    "salaries = []\n",
    "locations = []\n",
    "companies = []\n",
    "\n",
    "for i in range(len(results)):\n",
    "    # Every iteration at this level is a single page scraped - will have (up to) 10 job listings\n",
    "    sub_results = results[i].find_all('div', attrs={'data-tn-component':'organicJob'})\n",
    "    \n",
    "    for j in sub_results:\n",
    "        # Every iteration at this level is a single job listing. The function from above is used\n",
    "        # to extract the information of interest.\n",
    "        jobs.append(extract_from_soup(j, 'job'))\n",
    "        salaries.append(extract_from_soup(j, 'salary'))\n",
    "        locations.append(extract_from_soup(j, 'location'))\n",
    "        companies.append(extract_from_soup(j, 'company'))"
   ]
  },
  {
   "cell_type": "code",
   "execution_count": 50,
   "metadata": {
    "scrolled": true
   },
   "outputs": [],
   "source": [
    "#. Create a dataframe from the results with the four variables of interest.\n",
    "df = pd.DataFrame({'job':jobs, 'location':locations, 'company':companies, 'salary':salaries})"
   ]
  },
  {
   "cell_type": "code",
   "execution_count": 57,
   "metadata": {},
   "outputs": [
    {
     "data": {
      "text/plain": [
       "(8046, 4)"
      ]
     },
     "execution_count": 57,
     "metadata": {},
     "output_type": "execute_result"
    }
   ],
   "source": [
    "df.shape\n",
    "# 8046 jobs listings scraped in total"
   ]
  },
  {
   "cell_type": "code",
   "execution_count": 61,
   "metadata": {},
   "outputs": [
    {
     "data": {
      "text/html": [
       "<div>\n",
       "<style scoped>\n",
       "    .dataframe tbody tr th:only-of-type {\n",
       "        vertical-align: middle;\n",
       "    }\n",
       "\n",
       "    .dataframe tbody tr th {\n",
       "        vertical-align: top;\n",
       "    }\n",
       "\n",
       "    .dataframe thead th {\n",
       "        text-align: right;\n",
       "    }\n",
       "</style>\n",
       "<table border=\"1\" class=\"dataframe\">\n",
       "  <thead>\n",
       "    <tr style=\"text-align: right;\">\n",
       "      <th></th>\n",
       "      <th>job</th>\n",
       "      <th>location</th>\n",
       "      <th>company</th>\n",
       "      <th>salary</th>\n",
       "    </tr>\n",
       "  </thead>\n",
       "  <tbody>\n",
       "    <tr>\n",
       "      <th>0</th>\n",
       "      <td>Data Scientist</td>\n",
       "      <td>Chicago, IL</td>\n",
       "      <td>Blue Cross Blue Shield of IL, MT, NM, OK &amp; TX</td>\n",
       "      <td>None found</td>\n",
       "    </tr>\n",
       "    <tr>\n",
       "      <th>1</th>\n",
       "      <td>Senior Data Scientist</td>\n",
       "      <td>Chicago, IL</td>\n",
       "      <td>Blue Cross Blue Shield of IL, MT, NM, OK &amp; TX</td>\n",
       "      <td>None found</td>\n",
       "    </tr>\n",
       "    <tr>\n",
       "      <th>2</th>\n",
       "      <td>Pricing &amp; Promotions Data Scientist</td>\n",
       "      <td>Chicago, IL 60654 (Loop area)</td>\n",
       "      <td>Groupon</td>\n",
       "      <td>None found</td>\n",
       "    </tr>\n",
       "    <tr>\n",
       "      <th>3</th>\n",
       "      <td>Data Scientist</td>\n",
       "      <td>Schaumburg, IL 60173</td>\n",
       "      <td>Zurich North America</td>\n",
       "      <td>None found</td>\n",
       "    </tr>\n",
       "    <tr>\n",
       "      <th>4</th>\n",
       "      <td>Data Scientist</td>\n",
       "      <td>Chicago, IL</td>\n",
       "      <td>The University of Chicago</td>\n",
       "      <td>None found</td>\n",
       "    </tr>\n",
       "  </tbody>\n",
       "</table>\n",
       "</div>"
      ],
      "text/plain": [
       "                                   job                       location  \\\n",
       "0                       Data Scientist                    Chicago, IL   \n",
       "1                Senior Data Scientist                    Chicago, IL   \n",
       "2  Pricing & Promotions Data Scientist  Chicago, IL 60654 (Loop area)   \n",
       "3                       Data Scientist           Schaumburg, IL 60173   \n",
       "4                       Data Scientist                    Chicago, IL   \n",
       "\n",
       "                                         company      salary  \n",
       "0  Blue Cross Blue Shield of IL, MT, NM, OK & TX  None found  \n",
       "1  Blue Cross Blue Shield of IL, MT, NM, OK & TX  None found  \n",
       "2                                        Groupon  None found  \n",
       "3                           Zurich North America  None found  \n",
       "4                      The University of Chicago  None found  "
      ]
     },
     "execution_count": 61,
     "metadata": {},
     "output_type": "execute_result"
    }
   ],
   "source": [
    "df.head()\n",
    "# A look at some of the listings:"
   ]
  },
  {
   "cell_type": "markdown",
   "metadata": {
    "focus": false,
    "id": "ff98ce64-78a7-441f-a675-63464e32c834"
   },
   "source": [
    "#### Cleaning the data obtained\n",
    "<br>\n",
    "Potential issues:\n",
    "1. Just a small number of the scraped results have salary information - only these will be used for modeling.\n",
    "1. Some of the salaries are not yearly but hourly or weekly, these will not be useful to us for now.\n",
    "1. Some of the entries may be duplicated.\n",
    "1. The salaries are given as text and usually with ranges."
   ]
  },
  {
   "cell_type": "markdown",
   "metadata": {
    "focus": false,
    "id": "ff98ce64-78a7-441f-a675-63464e32c834"
   },
   "source": [
    "#### Extract the salary figures from the 'salary' column string fields and convert them to integers, averaging the figures if they are presented as a range"
   ]
  },
  {
   "cell_type": "code",
   "execution_count": 69,
   "metadata": {},
   "outputs": [],
   "source": [
    "# Making a copy of the first dataframe to ensure I won't overwrite it with any mistakes\n",
    "## Subset for rows with have the string 'year' in the 'salary' column\n",
    "df2 = df.copy()[df.salary.str.contains('year')]\n",
    "df2.reset_index(inplace=True, drop=True)"
   ]
  },
  {
   "cell_type": "code",
   "execution_count": null,
   "metadata": {},
   "outputs": [],
   "source": [
    "# Dropping duplicate rows\n",
    "df2.drop_duplicates(inplace=True)\n",
    "df2.reset_index(inplace=True, drop=True)"
   ]
  },
  {
   "cell_type": "code",
   "execution_count": 75,
   "metadata": {},
   "outputs": [
    {
     "data": {
      "text/plain": [
       "(371, 4)"
      ]
     },
     "execution_count": 75,
     "metadata": {},
     "output_type": "execute_result"
    }
   ],
   "source": [
    "df2.shape\n",
    "# 371 listings after subsetting and the duplicates have been removed"
   ]
  },
  {
   "cell_type": "code",
   "execution_count": 73,
   "metadata": {
    "scrolled": true
   },
   "outputs": [
    {
     "data": {
      "text/html": [
       "<div>\n",
       "<style scoped>\n",
       "    .dataframe tbody tr th:only-of-type {\n",
       "        vertical-align: middle;\n",
       "    }\n",
       "\n",
       "    .dataframe tbody tr th {\n",
       "        vertical-align: top;\n",
       "    }\n",
       "\n",
       "    .dataframe thead th {\n",
       "        text-align: right;\n",
       "    }\n",
       "</style>\n",
       "<table border=\"1\" class=\"dataframe\">\n",
       "  <thead>\n",
       "    <tr style=\"text-align: right;\">\n",
       "      <th></th>\n",
       "      <th>job</th>\n",
       "      <th>location</th>\n",
       "      <th>company</th>\n",
       "      <th>salary</th>\n",
       "    </tr>\n",
       "  </thead>\n",
       "  <tbody>\n",
       "    <tr>\n",
       "      <th>0</th>\n",
       "      <td>Mid Level Data Scientist (Regression/Visualiza...</td>\n",
       "      <td>Chicago, IL</td>\n",
       "      <td>Jobspring Partners</td>\n",
       "      <td>$95,000 - $115,000 a year</td>\n",
       "    </tr>\n",
       "    <tr>\n",
       "      <th>1</th>\n",
       "      <td>Data Scientist</td>\n",
       "      <td>Chicago, IL</td>\n",
       "      <td>S.C. International</td>\n",
       "      <td>$100,000 a year</td>\n",
       "    </tr>\n",
       "    <tr>\n",
       "      <th>2</th>\n",
       "      <td>Data Scientist</td>\n",
       "      <td>Chicago, IL</td>\n",
       "      <td>Jobspring Partners</td>\n",
       "      <td>$90,000 - $120,000 a year</td>\n",
       "    </tr>\n",
       "  </tbody>\n",
       "</table>\n",
       "</div>"
      ],
      "text/plain": [
       "                                                 job     location  \\\n",
       "0  Mid Level Data Scientist (Regression/Visualiza...  Chicago, IL   \n",
       "1                                     Data Scientist  Chicago, IL   \n",
       "2                                     Data Scientist  Chicago, IL   \n",
       "\n",
       "              company                     salary  \n",
       "0  Jobspring Partners  $95,000 - $115,000 a year  \n",
       "1  S.C. International            $100,000 a year  \n",
       "2  Jobspring Partners  $90,000 - $120,000 a year  "
      ]
     },
     "execution_count": 73,
     "metadata": {},
     "output_type": "execute_result"
    }
   ],
   "source": [
    "df2.head(3)\n",
    "# Sample of listings in the subset"
   ]
  },
  {
   "cell_type": "code",
   "execution_count": null,
   "metadata": {},
   "outputs": [],
   "source": [
    "# Writing a function that takes a salary string and converts it to a number, averaging a salary \n",
    "# range if necessary\n",
    "\n",
    "# Removing commas from the annual salaries\n",
    "df2.salary = df2.salary.str.replace(',','')\n",
    "\n",
    "df2['salary_final'] = 0\n",
    "df3 = df2.copy()\n",
    "\n",
    "for i in range(len(df2)):\n",
    "    try:\n",
    "        # For each row, create a list of figures that are found in the 'salary' column\n",
    "        salary_figs = re.findall('\\d+', df2.salary.iloc[i])\n",
    "        \n",
    "        if len(salary_figs) == 1:\n",
    "            # If only a single figure is found, convert it to integer and save to 'salary_final' column\n",
    "            df3.salary_final[i] = int(salary_figs[0])        \n",
    "        elif len(salary_figs) == 2:\n",
    "            # If two figures are found, convert to integer and save their mean to 'salary_final'   \n",
    "            df3.salary_final[i] = int((int(salary_figs[0]) + int(salary_figs[1]))/2)\n",
    "        else:\n",
    "            # If there's for some reason more than three figures, file a warning\n",
    "            df3.salary_final[i].iloc = 'inspect this row'\n",
    "    except:\n",
    "        # Print the row numbers for salaries that caused issues\n",
    "        print(i)"
   ]
  },
  {
   "cell_type": "code",
   "execution_count": 190,
   "metadata": {},
   "outputs": [
    {
     "data": {
      "text/plain": [
       "job             object\n",
       "location        object\n",
       "company         object\n",
       "salary          object\n",
       "salary_final     int64\n",
       "dtype: object"
      ]
     },
     "execution_count": 190,
     "metadata": {},
     "output_type": "execute_result"
    }
   ],
   "source": [
    "# Confirming that the final salary column consists solely integers\n",
    "df3.dtypes"
   ]
  },
  {
   "cell_type": "markdown",
   "metadata": {
    "focus": false,
    "id": "43e71edd-210e-42b1-9336-70a931f048af"
   },
   "source": [
    "#### Saving the results to a CSV file"
   ]
  },
  {
   "cell_type": "code",
   "execution_count": 195,
   "metadata": {
    "focus": false,
    "id": "783fd153-28ac-47ab-bfca-27e7c1de95b4"
   },
   "outputs": [],
   "source": [
    "# Dropping the old and now obsolete 'salary' field\n",
    "df3.drop('salary', axis=1, inplace = True)\n",
    "\n",
    "df3.to_csv('indeed_jobs.csv', index=False)"
   ]
  },
  {
   "cell_type": "markdown",
   "metadata": {
    "focus": false,
    "id": "04563b69-f7b6-466f-9d65-fc62c9ddee6a"
   },
   "source": [
    "## Predicting salaries using the scraped data"
   ]
  },
  {
   "cell_type": "markdown",
   "metadata": {
    "focus": false,
    "id": "243e949e-2742-40af-872e-fec475fd306c"
   },
   "source": [
    "#### Loading in the the data of scraped salaries"
   ]
  },
  {
   "cell_type": "code",
   "execution_count": 40,
   "metadata": {
    "focus": false,
    "id": "588f9845-6143-4bcc-bfd1-85d45b79303d"
   },
   "outputs": [],
   "source": [
    "# Read in data from the previously saved CSV file\n",
    "ds_jobs = pd.read_csv('./indeed_jobs.csv')"
   ]
  },
  {
   "cell_type": "code",
   "execution_count": 46,
   "metadata": {},
   "outputs": [
    {
     "data": {
      "text/html": [
       "<div>\n",
       "<style scoped>\n",
       "    .dataframe tbody tr th:only-of-type {\n",
       "        vertical-align: middle;\n",
       "    }\n",
       "\n",
       "    .dataframe tbody tr th {\n",
       "        vertical-align: top;\n",
       "    }\n",
       "\n",
       "    .dataframe thead th {\n",
       "        text-align: right;\n",
       "    }\n",
       "</style>\n",
       "<table border=\"1\" class=\"dataframe\">\n",
       "  <thead>\n",
       "    <tr style=\"text-align: right;\">\n",
       "      <th></th>\n",
       "      <th>city</th>\n",
       "      <th>company</th>\n",
       "      <th>location</th>\n",
       "      <th>title</th>\n",
       "      <th>salary_final</th>\n",
       "    </tr>\n",
       "  </thead>\n",
       "  <tbody>\n",
       "    <tr>\n",
       "      <th>0</th>\n",
       "      <td>Philadelphia</td>\n",
       "      <td>Workbridge Associates</td>\n",
       "      <td>Philadelphia, PA</td>\n",
       "      <td>Data Scientist (statistical modeling with insu...</td>\n",
       "      <td>107500</td>\n",
       "    </tr>\n",
       "    <tr>\n",
       "      <th>1</th>\n",
       "      <td>Philadelphia</td>\n",
       "      <td>Workbridge Associates</td>\n",
       "      <td>Mount Laurel, NJ</td>\n",
       "      <td>Python Developer/Data Scientist</td>\n",
       "      <td>115000</td>\n",
       "    </tr>\n",
       "    <tr>\n",
       "      <th>2</th>\n",
       "      <td>Philadelphia</td>\n",
       "      <td>Workbridge Associates</td>\n",
       "      <td>Wilmington, DE</td>\n",
       "      <td>Data Scientist (Statistical Modeling)</td>\n",
       "      <td>97500</td>\n",
       "    </tr>\n",
       "    <tr>\n",
       "      <th>3</th>\n",
       "      <td>Philadelphia</td>\n",
       "      <td>Workbridge Associates</td>\n",
       "      <td>Wilmington, DE</td>\n",
       "      <td>Data Scientist (Hadoop, SAS, R, Python)</td>\n",
       "      <td>95000</td>\n",
       "    </tr>\n",
       "    <tr>\n",
       "      <th>4</th>\n",
       "      <td>Philadelphia</td>\n",
       "      <td>City of Philadelphia</td>\n",
       "      <td>Philadelphia, PA</td>\n",
       "      <td>Police Forensic Science Technician</td>\n",
       "      <td>41696</td>\n",
       "    </tr>\n",
       "  </tbody>\n",
       "</table>\n",
       "</div>"
      ],
      "text/plain": [
       "           city                company          location  \\\n",
       "0  Philadelphia  Workbridge Associates  Philadelphia, PA   \n",
       "1  Philadelphia  Workbridge Associates  Mount Laurel, NJ   \n",
       "2  Philadelphia  Workbridge Associates    Wilmington, DE   \n",
       "3  Philadelphia  Workbridge Associates    Wilmington, DE   \n",
       "4  Philadelphia   City of Philadelphia  Philadelphia, PA   \n",
       "\n",
       "                                               title  salary_final  \n",
       "0  Data Scientist (statistical modeling with insu...        107500  \n",
       "1                    Python Developer/Data Scientist        115000  \n",
       "2              Data Scientist (Statistical Modeling)         97500  \n",
       "3            Data Scientist (Hadoop, SAS, R, Python)         95000  \n",
       "4                 Police Forensic Science Technician         41696  "
      ]
     },
     "execution_count": 46,
     "metadata": {},
     "output_type": "execute_result"
    }
   ],
   "source": [
    "ds_jobs.head()"
   ]
  },
  {
   "cell_type": "markdown",
   "metadata": {
    "focus": false,
    "id": "c7631f51-07f2-4c79-a093-3e9bc7849a48"
   },
   "source": [
    "For the sake of simplicity, the problem at hand will be approached as a binary classification. We want to predict a binary variable - whether the salary was low or high.  While performing regression may be better, performing classification may help remove some of the noise of the extreme salaries."
   ]
  },
  {
   "cell_type": "code",
   "execution_count": 48,
   "metadata": {
    "scrolled": true
   },
   "outputs": [
    {
     "data": {
      "text/plain": [
       "count       409.000000\n",
       "mean     112141.068460\n",
       "std       39629.513517\n",
       "min       32945.000000\n",
       "25%       79249.000000\n",
       "50%      114500.000000\n",
       "75%      137500.000000\n",
       "max      300000.000000\n",
       "Name: salary_final, dtype: float64"
      ]
     },
     "execution_count": 48,
     "metadata": {},
     "output_type": "execute_result"
    }
   ],
   "source": [
    "ds_jobs.salary_final.describe()\n",
    "# Median salary is 114500 (USD)"
   ]
  },
  {
   "cell_type": "code",
   "execution_count": 49,
   "metadata": {},
   "outputs": [],
   "source": [
    "# Creating a dummy variable (salary_high) that is True if the salary is above sample median\n",
    "ds_jobs['salary_high'] = 0\n",
    "ds_jobs['salary_high'] = (ds_jobs['salary_final'] >= ds_jobs['salary_final'].median())\n",
    "\n",
    "# Drop the now-reduntant 'salary-final' column\n",
    "ds_jobs.drop('salary_final', axis=1, inplace=True)"
   ]
  },
  {
   "cell_type": "code",
   "execution_count": 53,
   "metadata": {},
   "outputs": [
    {
     "data": {
      "text/html": [
       "<div>\n",
       "<style scoped>\n",
       "    .dataframe tbody tr th:only-of-type {\n",
       "        vertical-align: middle;\n",
       "    }\n",
       "\n",
       "    .dataframe tbody tr th {\n",
       "        vertical-align: top;\n",
       "    }\n",
       "\n",
       "    .dataframe thead th {\n",
       "        text-align: right;\n",
       "    }\n",
       "</style>\n",
       "<table border=\"1\" class=\"dataframe\">\n",
       "  <thead>\n",
       "    <tr style=\"text-align: right;\">\n",
       "      <th></th>\n",
       "      <th>city</th>\n",
       "      <th>company</th>\n",
       "      <th>location</th>\n",
       "      <th>title</th>\n",
       "      <th>salary_high</th>\n",
       "    </tr>\n",
       "  </thead>\n",
       "  <tbody>\n",
       "    <tr>\n",
       "      <th>0</th>\n",
       "      <td>Philadelphia</td>\n",
       "      <td>Workbridge Associates</td>\n",
       "      <td>Philadelphia, PA</td>\n",
       "      <td>Data Scientist (statistical modeling with insu...</td>\n",
       "      <td>False</td>\n",
       "    </tr>\n",
       "    <tr>\n",
       "      <th>1</th>\n",
       "      <td>Philadelphia</td>\n",
       "      <td>Workbridge Associates</td>\n",
       "      <td>Mount Laurel, NJ</td>\n",
       "      <td>Python Developer/Data Scientist</td>\n",
       "      <td>True</td>\n",
       "    </tr>\n",
       "  </tbody>\n",
       "</table>\n",
       "</div>"
      ],
      "text/plain": [
       "           city                company          location  \\\n",
       "0  Philadelphia  Workbridge Associates  Philadelphia, PA   \n",
       "1  Philadelphia  Workbridge Associates  Mount Laurel, NJ   \n",
       "\n",
       "                                               title  salary_high  \n",
       "0  Data Scientist (statistical modeling with insu...        False  \n",
       "1                    Python Developer/Data Scientist         True  "
      ]
     },
     "execution_count": 53,
     "metadata": {},
     "output_type": "execute_result"
    }
   ],
   "source": [
    "ds_jobs.head(2)"
   ]
  },
  {
   "cell_type": "markdown",
   "metadata": {},
   "source": [
    "### Model taking into account job levels and categories"
   ]
  },
  {
   "cell_type": "markdown",
   "metadata": {
    "focus": false,
    "id": "a7afb2c0-d41e-4779-8216-91cd8dd4473f"
   },
   "source": [
    "#### Calculating the baseline accuracy for this model"
   ]
  },
  {
   "cell_type": "code",
   "execution_count": 51,
   "metadata": {
    "focus": false,
    "id": "87a17d3d-b7f4-4747-9f75-f9af1d18a174",
    "scrolled": false
   },
   "outputs": [
    {
     "data": {
      "text/plain": [
       "0.5012224938875306"
      ]
     },
     "execution_count": 51,
     "metadata": {},
     "output_type": "execute_result"
    }
   ],
   "source": [
    "ds_jobs.salary_high.sum()/len(ds_jobs.salary_high)\n",
    "# The baseline accuracy is:"
   ]
  },
  {
   "cell_type": "markdown",
   "metadata": {},
   "source": [
    "#### Creating new variables based on job titles"
   ]
  },
  {
   "cell_type": "code",
   "execution_count": 57,
   "metadata": {},
   "outputs": [],
   "source": [
    "# Split the dependent and independent variables\n",
    "y = ds_jobs.pop('salary_high')\n",
    "x = ds_jobs.copy()"
   ]
  },
  {
   "cell_type": "code",
   "execution_count": 75,
   "metadata": {},
   "outputs": [],
   "source": [
    "# loop through all rows, flagging column 'senior_role' as 1 if column 'title' contains the words\n",
    "# 'senior' or 'manager'\n",
    "\n",
    "x['senior_role'] = 0\n",
    "for i in range(len(x)):\n",
    "    try:\n",
    "        seniority = 0\n",
    "        if len(re.findall('senior',x.title.iloc[i].lower())) != 0:\n",
    "            seniority = 1\n",
    "        elif len(re.findall('manager',x.title.iloc[i].lower())) != 0:\n",
    "            seniority = 1\n",
    "        else:\n",
    "            seniority = 0\n",
    "        x.senior_role[i] = seniority\n",
    "    except:\n",
    "        print(i);"
   ]
  },
  {
   "cell_type": "code",
   "execution_count": 76,
   "metadata": {
    "scrolled": true
   },
   "outputs": [],
   "source": [
    "# loop through all rows, flagging column 'supersenior_role' as 1 if column 'title' contains the words\n",
    "# 'president', 'executive', 'director'\n",
    "\n",
    "x['supersenior_role'] = 0\n",
    "for i in range(len(x)):\n",
    "    try:\n",
    "        seniority = 0\n",
    "        if len(re.findall('president',x.title.iloc[i].lower())) != 0:\n",
    "            seniority = 1\n",
    "        elif len(re.findall('executive',x.title.iloc[i].lower())) != 0:\n",
    "            seniority = 1\n",
    "        elif len(re.findall('director',x.title.iloc[i].lower())) != 0:\n",
    "            seniority = 1\n",
    "        else:\n",
    "            seniority = 0\n",
    "        x.supersenior_role[i] = seniority\n",
    "    except:\n",
    "        print(i);"
   ]
  },
  {
   "cell_type": "code",
   "execution_count": 77,
   "metadata": {},
   "outputs": [],
   "source": [
    "# loop through all rows, flagging column 'junior_role' as 1 if column 'title' contains the words\n",
    "# 'junior' or 'intern'\n",
    "\n",
    "x['junior_role'] = 0\n",
    "for i in range(len(x)):\n",
    "    try:\n",
    "        jun = 0\n",
    "        if len(re.findall('junior',x.title.iloc[i].lower())) != 0:\n",
    "            jun = 1\n",
    "        elif len(re.findall('intern',x.title.iloc[i].lower())) != 0:\n",
    "            jun = 1\n",
    "        else:\n",
    "            jun = 0\n",
    "        x.junior_role[i] = jun\n",
    "    except:\n",
    "        print(i);"
   ]
  },
  {
   "cell_type": "code",
   "execution_count": 78,
   "metadata": {},
   "outputs": [],
   "source": [
    "# loop through all rows, flagging column 'ml' as 1 if column 'title' contains the words\n",
    "# 'deep' or 'machine', indicating that the job involves aspects of machine learning\n",
    "\n",
    "x['ml'] = 0\n",
    "for i in range(len(x)):\n",
    "    try:\n",
    "        ml = 0\n",
    "        if len(re.findall('deep',x.title.iloc[i].lower())) != 0:\n",
    "            ml = 1\n",
    "        elif len(re.findall('machine',x.title.iloc[i].lower())) != 0:\n",
    "            ml = 1\n",
    "        else:\n",
    "            ml = 0\n",
    "        x.ml[i] = ml\n",
    "    except:\n",
    "        print(i);"
   ]
  },
  {
   "cell_type": "code",
   "execution_count": 79,
   "metadata": {},
   "outputs": [],
   "source": [
    "# loop through all rows, flagging column 'engineer' as 1 if column 'title' contains the word 'engineer'\n",
    "\n",
    "x['engineer'] = 0\n",
    "for i in range(len(x)):\n",
    "    try:\n",
    "        eng = 0\n",
    "        if len(re.findall('engineer',x.title.iloc[i].lower())) != 0:\n",
    "            eng = 1\n",
    "        else:\n",
    "            eng = 0\n",
    "        x.engineer[i] = eng\n",
    "    except:\n",
    "        print(i);"
   ]
  },
  {
   "cell_type": "code",
   "execution_count": 82,
   "metadata": {
    "scrolled": true
   },
   "outputs": [
    {
     "data": {
      "image/png": "[encoded data removed]",
      "text/plain": [
       "<Figure size 432x288 with 2 Axes>"
      ]
     },
     "metadata": {},
     "output_type": "display_data"
    }
   ],
   "source": [
    "# Creating a heatmap to examine the correlations between the various \n",
    "\n",
    "corr_subset = x[['senior_role', 'supersenior_role', 'junior_role', 'ml', 'engineer']]\n",
    "corr_subset['salary_high (y)'] = y\n",
    "\n",
    "sns.heatmap(corr_subset.corr());"
   ]
  },
  {
   "cell_type": "code",
   "execution_count": null,
   "metadata": {},
   "outputs": [],
   "source": [
    "# The variables 'supersenior_role' and 'junior_role' have almost non-existent correlations with\n",
    "# (high) salaries, so they will be excluded from the analyses\n",
    "\n",
    "x.drop(['city','ml', 'engineer', 'senior_role'], axis = 1, inplace = True)"
   ]
  },
  {
   "cell_type": "code",
   "execution_count": 84,
   "metadata": {},
   "outputs": [],
   "source": [
    "# Create a dummy variable for each city\n",
    "x_dum = pd.get_dummies(x, drop_first=True)"
   ]
  },
  {
   "cell_type": "code",
   "execution_count": 85,
   "metadata": {},
   "outputs": [],
   "source": [
    "# Test/train split the data with a 1:4 ratio, stratifying the dependent variable\n",
    "x_train, x_test, y_train, y_test = train_test_split(x_dum, y, test_size = 0.2, \n",
    "                                                    random_state=1, stratify=y, shuffle = True)"
   ]
  },
  {
   "cell_type": "markdown",
   "metadata": {},
   "source": [
    "Note: re-scaling is not necessary here as all variables are already in the same binary scale"
   ]
  },
  {
   "cell_type": "markdown",
   "metadata": {},
   "source": [
    "#### Logistic regression"
   ]
  },
  {
   "cell_type": "code",
   "execution_count": 86,
   "metadata": {},
   "outputs": [],
   "source": [
    "# Create a logistic regression model (ridge penalty was also tested but lasso performed better)\n",
    "model = LogisticRegression(penalty='l1')"
   ]
  },
  {
   "cell_type": "code",
   "execution_count": 87,
   "metadata": {},
   "outputs": [
    {
     "name": "stdout",
     "output_type": "stream",
     "text": [
      "0.6483143939393939\n"
     ]
    }
   ],
   "source": [
    "# Calculating the 5-fold cross-validated training set accuracy score\n",
    "print(cross_val_score(model, x_train, y_train, cv=5).mean())"
   ]
  },
  {
   "cell_type": "code",
   "execution_count": 88,
   "metadata": {},
   "outputs": [
    {
     "data": {
      "text/plain": [
       "0.6341463414634146"
      ]
     },
     "execution_count": 88,
     "metadata": {},
     "output_type": "execute_result"
    }
   ],
   "source": [
    "# Calculating the test set accuracy score \n",
    "model.fit(x_train, y_train)\n",
    "model.score(x_test, y_test)"
   ]
  },
  {
   "cell_type": "code",
   "execution_count": 89,
   "metadata": {},
   "outputs": [
    {
     "data": {
      "text/html": [
       "<div>\n",
       "<style scoped>\n",
       "    .dataframe tbody tr th:only-of-type {\n",
       "        vertical-align: middle;\n",
       "    }\n",
       "\n",
       "    .dataframe tbody tr th {\n",
       "        vertical-align: top;\n",
       "    }\n",
       "\n",
       "    .dataframe thead th {\n",
       "        text-align: right;\n",
       "    }\n",
       "</style>\n",
       "<table border=\"1\" class=\"dataframe\">\n",
       "  <thead>\n",
       "    <tr style=\"text-align: right;\">\n",
       "      <th></th>\n",
       "      <th>ml</th>\n",
       "      <th>engineer</th>\n",
       "      <th>city_Austin</th>\n",
       "      <th>city_Boston</th>\n",
       "      <th>city_Chicago</th>\n",
       "      <th>city_Dallas</th>\n",
       "      <th>city_Denver</th>\n",
       "      <th>city_Houston</th>\n",
       "      <th>city_Los+Angeles</th>\n",
       "      <th>city_Miami</th>\n",
       "      <th>city_New+York</th>\n",
       "      <th>city_Philadelphia</th>\n",
       "      <th>city_Phoenix</th>\n",
       "      <th>city_Pittsburgh</th>\n",
       "      <th>city_Portland</th>\n",
       "      <th>city_San+Francisco</th>\n",
       "      <th>city_Seattle</th>\n",
       "    </tr>\n",
       "  </thead>\n",
       "  <tbody>\n",
       "    <tr>\n",
       "      <th>0</th>\n",
       "      <td>1.063305</td>\n",
       "      <td>1.085908</td>\n",
       "      <td>-1.058683</td>\n",
       "      <td>0.99656</td>\n",
       "      <td>0.09739</td>\n",
       "      <td>0.0</td>\n",
       "      <td>-0.928365</td>\n",
       "      <td>-0.341484</td>\n",
       "      <td>0.0</td>\n",
       "      <td>-2.411872</td>\n",
       "      <td>-0.504197</td>\n",
       "      <td>0.034454</td>\n",
       "      <td>0.0</td>\n",
       "      <td>0.0</td>\n",
       "      <td>-0.148364</td>\n",
       "      <td>0.606886</td>\n",
       "      <td>1.191704</td>\n",
       "    </tr>\n",
       "  </tbody>\n",
       "</table>\n",
       "</div>"
      ],
      "text/plain": [
       "         ml  engineer  city_Austin  city_Boston  city_Chicago  city_Dallas  \\\n",
       "0  1.063305  1.085908    -1.058683      0.99656       0.09739          0.0   \n",
       "\n",
       "   city_Denver  city_Houston  city_Los+Angeles  city_Miami  city_New+York  \\\n",
       "0    -0.928365     -0.341484               0.0   -2.411872      -0.504197   \n",
       "\n",
       "   city_Philadelphia  city_Phoenix  city_Pittsburgh  city_Portland  \\\n",
       "0           0.034454           0.0              0.0      -0.148364   \n",
       "\n",
       "   city_San+Francisco  city_Seattle  \n",
       "0            0.606886      1.191704  "
      ]
     },
     "execution_count": 89,
     "metadata": {},
     "output_type": "execute_result"
    }
   ],
   "source": [
    "# Model coefficients for the above model:\n",
    "model_coefs = pd.DataFrame(model.coef_)\n",
    "model_coefs.columns = x_train.columns\n",
    "model_coefs"
   ]
  },
  {
   "cell_type": "markdown",
   "metadata": {},
   "source": [
    "Surprisingly, including a dummy variable that distinguishes between senior roles by looking for the phrases 'senior', 'manager', 'president', 'executive' or 'director' in the job title did not improve model performance on test data. this is likely to exist due to some terms which indicate seniority not being captured by this mask."
   ]
  },
  {
   "cell_type": "markdown",
   "metadata": {},
   "source": [
    "#### Random Forest classifier"
   ]
  },
  {
   "cell_type": "code",
   "execution_count": 90,
   "metadata": {},
   "outputs": [
    {
     "name": "stdout",
     "output_type": "stream",
     "text": [
      "0.651607821332592\n",
      "0.6707317073170732\n"
     ]
    }
   ],
   "source": [
    "# Creating a Random Forest classifier model with default hyperparameters\n",
    "model = RandomForestClassifier(random_state=1)\n",
    "model.fit(x_train, y_train)\n",
    "\n",
    "print(cross_val_score(model, x_train, y_train, cv=3).mean())\n",
    "print(model.score(x_test, y_test))\n",
    "\n",
    "# 3-fold cross-validated average accuracy score on training set above, test set accuracy below:"
   ]
  },
  {
   "cell_type": "code",
   "execution_count": 91,
   "metadata": {},
   "outputs": [],
   "source": [
    "# Getting the feature importances for the above random forest model\n",
    "model_fi = np.transpose(pd.DataFrame(model.feature_importances_))\n",
    "model_fi = pd.DataFrame(model_fi)\n",
    "model_fi.columns = x_train.columns"
   ]
  },
  {
   "cell_type": "code",
   "execution_count": 92,
   "metadata": {},
   "outputs": [
    {
     "data": {
      "text/html": [
       "<div>\n",
       "<style scoped>\n",
       "    .dataframe tbody tr th:only-of-type {\n",
       "        vertical-align: middle;\n",
       "    }\n",
       "\n",
       "    .dataframe tbody tr th {\n",
       "        vertical-align: top;\n",
       "    }\n",
       "\n",
       "    .dataframe thead th {\n",
       "        text-align: right;\n",
       "    }\n",
       "</style>\n",
       "<table border=\"1\" class=\"dataframe\">\n",
       "  <thead>\n",
       "    <tr style=\"text-align: right;\">\n",
       "      <th></th>\n",
       "      <th>ml</th>\n",
       "      <th>engineer</th>\n",
       "      <th>city_Austin</th>\n",
       "      <th>city_Boston</th>\n",
       "      <th>city_Chicago</th>\n",
       "      <th>city_Dallas</th>\n",
       "      <th>city_Denver</th>\n",
       "      <th>city_Houston</th>\n",
       "      <th>city_Los+Angeles</th>\n",
       "      <th>city_Miami</th>\n",
       "      <th>city_New+York</th>\n",
       "      <th>city_Philadelphia</th>\n",
       "      <th>city_Phoenix</th>\n",
       "      <th>city_Pittsburgh</th>\n",
       "      <th>city_Portland</th>\n",
       "      <th>city_San+Francisco</th>\n",
       "      <th>city_Seattle</th>\n",
       "    </tr>\n",
       "  </thead>\n",
       "  <tbody>\n",
       "    <tr>\n",
       "      <th>0</th>\n",
       "      <td>0.115298</td>\n",
       "      <td>0.199629</td>\n",
       "      <td>0.074852</td>\n",
       "      <td>0.043634</td>\n",
       "      <td>0.028255</td>\n",
       "      <td>0.018225</td>\n",
       "      <td>0.054695</td>\n",
       "      <td>0.054706</td>\n",
       "      <td>0.019468</td>\n",
       "      <td>0.076202</td>\n",
       "      <td>0.087692</td>\n",
       "      <td>0.019027</td>\n",
       "      <td>0.021342</td>\n",
       "      <td>0.011896</td>\n",
       "      <td>0.030261</td>\n",
       "      <td>0.081494</td>\n",
       "      <td>0.063324</td>\n",
       "    </tr>\n",
       "  </tbody>\n",
       "</table>\n",
       "</div>"
      ],
      "text/plain": [
       "         ml  engineer  city_Austin  city_Boston  city_Chicago  city_Dallas  \\\n",
       "0  0.115298  0.199629     0.074852     0.043634      0.028255     0.018225   \n",
       "\n",
       "   city_Denver  city_Houston  city_Los+Angeles  city_Miami  city_New+York  \\\n",
       "0     0.054695      0.054706          0.019468    0.076202       0.087692   \n",
       "\n",
       "   city_Philadelphia  city_Phoenix  city_Pittsburgh  city_Portland  \\\n",
       "0           0.019027      0.021342         0.011896       0.030261   \n",
       "\n",
       "   city_San+Francisco  city_Seattle  \n",
       "0            0.081494      0.063324  "
      ]
     },
     "execution_count": 92,
     "metadata": {},
     "output_type": "execute_result"
    }
   ],
   "source": [
    "model_fi"
   ]
  },
  {
   "cell_type": "markdown",
   "metadata": {},
   "source": [
    "The higher the above feature importance, the more closely related with the dependent variable these variables are, explaining more of the variation in Y. \n",
    "\n",
    "'ml' (whether the job title includes the phrases 'machine/deep learning') and 'engineer' (whether the job title includes the word 'engineer) are the most important features in this model, indicating that in this dataset, skills are more important at identifying high-paid jobs than cities are. Out of the cities in this model, New York (0.087692) is the most important.\n",
    "\n",
    "This model performed better than the logistic regression above, on both the training and test data-sets, so it will be used going forward."
   ]
  },
  {
   "cell_type": "markdown",
   "metadata": {},
   "source": [
    "#### Optimising Random Forest models' hyperparameters"
   ]
  },
  {
   "cell_type": "code",
   "execution_count": 94,
   "metadata": {},
   "outputs": [
    {
     "name": "stdout",
     "output_type": "stream",
     "text": [
      "Test score at 2 folds: 0.6463414634146342\n",
      "Test score at 3 folds: 0.6707317073170732\n",
      "Test score at 4 folds: 0.6097560975609756\n",
      "Test score at 5 folds: 0.6463414634146342\n",
      "Test score at 6 folds: 0.6707317073170732\n",
      "Test score at 7 folds: 0.6463414634146342\n",
      "Test score at 8 folds: 0.6829268292682927\n",
      "Test score at 9 folds: 0.6463414634146342\n"
     ]
    }
   ],
   "source": [
    "# Running a cross-validated gridsearch for Random Forests, varying both the amount of folds in the \n",
    "# gridsearch and the number of estimators and criteria in the models\n",
    "\n",
    "kfolds = range(2,10)\n",
    "model = RandomForestClassifier(random_state=1)\n",
    "\n",
    "# Specifying the hyperparameters that will be tested\n",
    "params = {'n_estimators': list(range(1, 40)),\n",
    "          'criterion': ['gini','entropy']}\n",
    "\n",
    "for i in kfolds:\n",
    "    gs = GridSearchCV(model, param_grid=params, cv=i)\n",
    "    gs.fit(x_train, y_train)\n",
    "    model = gs.best_estimator_\n",
    "    kfs = model.score(x_test, y_test)\n",
    "    print(f'Test score at {i} folds: {kfs}')"
   ]
  },
  {
   "cell_type": "code",
   "execution_count": 95,
   "metadata": {},
   "outputs": [
    {
     "name": "stdout",
     "output_type": "stream",
     "text": [
      "RandomForestClassifier(bootstrap=True, class_weight=None, criterion='gini',\n",
      "            max_depth=None, max_features='auto', max_leaf_nodes=None,\n",
      "            min_impurity_decrease=0.0, min_impurity_split=None,\n",
      "            min_samples_leaf=1, min_samples_split=2,\n",
      "            min_weight_fraction_leaf=0.0, n_estimators=2, n_jobs=1,\n",
      "            oob_score=False, random_state=1, verbose=0, warm_start=False)\n",
      "Training score: 0.691131498470948\n",
      "Test score: 0.6829268292682927\n"
     ]
    }
   ],
   "source": [
    "# Re-running the model with the best score from above\n",
    "\n",
    "model = RandomForestClassifier(random_state=1)\n",
    "params = {'n_estimators': list(range(1, 40)),\n",
    "          'criterion': ['gini','entropy']}\n",
    "\n",
    "# Setting the 'cv' argument at 8, as eight folds performed best above\n",
    "gs = GridSearchCV(model, param_grid=params, cv=8)\n",
    "gs.fit(x_train, y_train)\n",
    "model = gs.best_estimator_\n",
    "kfs = model.score(x_test, y_test)\n",
    "\n",
    "print(model)\n",
    "print(f'Training score: {model.score(x_train, y_train)}')\n",
    "print(f'Test score: {model.score(x_test, y_test)}')"
   ]
  },
  {
   "cell_type": "markdown",
   "metadata": {},
   "source": [
    "This model is already pretty good, correctly classifying high and low-paying jobs over 68% of time. This is a considerable improvement over the baseline of about 0.501"
   ]
  },
  {
   "cell_type": "markdown",
   "metadata": {},
   "source": [
    "## Minimising the false positive rate"
   ]
  },
  {
   "cell_type": "markdown",
   "metadata": {},
   "source": [
    "#### Drawing the ROC curve to decide a good threshold between the true and false positive rates"
   ]
  },
  {
   "cell_type": "markdown",
   "metadata": {},
   "source": [
    "We are here interesting in examining the ROC and precision-recall curves to find a good model threshold for classifying high-paid jobs. I am looking to have a reasonably small false positive rate, as it would be (from the point of view of Indeed.com) a lot bigger of a mistake to accidentally classify a low-paying job as a high-paying one than the other way around."
   ]
  },
  {
   "cell_type": "code",
   "execution_count": 96,
   "metadata": {},
   "outputs": [],
   "source": [
    "# Getting prediction probabilities and predictions for the above best model\n",
    "yhat_pp = model.predict_proba(x_test)\n",
    "yhat = model.predict(x_test)"
   ]
  },
  {
   "cell_type": "code",
   "execution_count": 97,
   "metadata": {},
   "outputs": [],
   "source": [
    "# Getting the  \n",
    "fpr, tpr, threshold = roc_curve(y_test, yhat_pp[:, 1])\n",
    "roc_auc = auc(fpr, tpr)"
   ]
  },
  {
   "cell_type": "code",
   "execution_count": 115,
   "metadata": {},
   "outputs": [
    {
     "data": {
      "image/png": "[encoded data removed]",
      "text/plain": [
       "<Figure size 504x504 with 1 Axes>"
      ]
     },
     "metadata": {
      "image/png": {
       "height": 474,
       "width": 463
      }
     },
     "output_type": "display_data"
    }
   ],
   "source": [
    "# Drawing the ROC curve\n",
    "\n",
    "fig, ax = plt.subplots(figsize=(7, 7))\n",
    "\n",
    "# Plotting the false and true positive rates from above\n",
    "ax.plot(fpr, tpr, label='Original (area = %0.3f)' % roc_auc, linewidth=4)\n",
    "ax.plot([0, 1], [0, 1], 'k--', linewidth=4)\n",
    "\n",
    "ax.set_xlim([-0.05, 1.0])\n",
    "ax.set_ylim([-0.05, 1.0])\n",
    "ax.set_xlabel('False Positive Rate', fontsize=18)\n",
    "ax.set_ylabel('True Positive Rate', fontsize=18)\n",
    "ax.set_title('ROC curve \\n Positive - job is high-paying', fontsize=18)\n",
    "ax.legend(loc=\"lower right\")\n",
    "\n",
    "plt.show()"
   ]
  },
  {
   "cell_type": "code",
   "execution_count": 99,
   "metadata": {},
   "outputs": [
    {
     "data": {
      "image/png": "[encoded data removed]",
      "text/plain": [
       "<Figure size 432x288 with 1 Axes>"
      ]
     },
     "metadata": {
      "image/png": {
       "height": 291,
       "width": 407
      }
     },
     "output_type": "display_data"
    }
   ],
   "source": [
    "# Drawing the precision-recall curve for the above model\n",
    "\n",
    "precision, recall, _  = precision_recall_curve(y_test, yhat)\n",
    "\n",
    "plt.step(recall, precision, color='b', alpha=0.2, where='post')\n",
    "plt.fill_between(recall, precision, step='post', alpha=0.2, color='b')\n",
    "\n",
    "plt.xlabel('Recall')\n",
    "plt.ylabel('Precision')\n",
    "plt.title('Precision-Recall curve')\n",
    "plt.ylim([0.0, 1])\n",
    "plt.xlim([0.0, 1]);"
   ]
  },
  {
   "cell_type": "code",
   "execution_count": 102,
   "metadata": {},
   "outputs": [
    {
     "name": "stdout",
     "output_type": "stream",
     "text": [
      "             precision    recall  f1-score   support\n",
      "\n",
      "      False       0.67      0.73      0.70        41\n",
      "       True       0.70      0.63      0.67        41\n",
      "\n",
      "avg / total       0.68      0.68      0.68        82\n",
      "\n"
     ]
    }
   ],
   "source": [
    "# Classification report for the above model:\n",
    "print(classification_report(y_test, yhat))"
   ]
  },
  {
   "cell_type": "code",
   "execution_count": 103,
   "metadata": {},
   "outputs": [
    {
     "data": {
      "text/html": [
       "<div>\n",
       "<style scoped>\n",
       "    .dataframe tbody tr th:only-of-type {\n",
       "        vertical-align: middle;\n",
       "    }\n",
       "\n",
       "    .dataframe tbody tr th {\n",
       "        vertical-align: top;\n",
       "    }\n",
       "\n",
       "    .dataframe thead th {\n",
       "        text-align: right;\n",
       "    }\n",
       "</style>\n",
       "<table border=\"1\" class=\"dataframe\">\n",
       "  <thead>\n",
       "    <tr style=\"text-align: right;\">\n",
       "      <th></th>\n",
       "      <th>Predicted high salary</th>\n",
       "      <th>Predicted low salary</th>\n",
       "    </tr>\n",
       "  </thead>\n",
       "  <tbody>\n",
       "    <tr>\n",
       "      <th>Real high salary</th>\n",
       "      <td>26</td>\n",
       "      <td>15</td>\n",
       "    </tr>\n",
       "    <tr>\n",
       "      <th>Real low salary</th>\n",
       "      <td>11</td>\n",
       "      <td>30</td>\n",
       "    </tr>\n",
       "  </tbody>\n",
       "</table>\n",
       "</div>"
      ],
      "text/plain": [
       "                  Predicted high salary  Predicted low salary\n",
       "Real high salary                     26                    15\n",
       "Real low salary                      11                    30"
      ]
     },
     "execution_count": 103,
     "metadata": {},
     "output_type": "execute_result"
    }
   ],
   "source": [
    "# Confusion matrix for the above model:\n",
    "conmat = np.array(confusion_matrix(y_test, yhat, labels=[1,0]))\n",
    "confusion = pd.DataFrame(conmat, index=['Real high salary', 'Real low salary'],\n",
    "                         columns=['Predicted high salary','Predicted low salary'])\n",
    "confusion"
   ]
  },
  {
   "cell_type": "code",
   "execution_count": 116,
   "metadata": {
    "scrolled": false
   },
   "outputs": [
    {
     "data": {
      "text/html": [
       "<div>\n",
       "<style scoped>\n",
       "    .dataframe tbody tr th:only-of-type {\n",
       "        vertical-align: middle;\n",
       "    }\n",
       "\n",
       "    .dataframe tbody tr th {\n",
       "        vertical-align: top;\n",
       "    }\n",
       "\n",
       "    .dataframe thead th {\n",
       "        text-align: right;\n",
       "    }\n",
       "</style>\n",
       "<table border=\"1\" class=\"dataframe\">\n",
       "  <thead>\n",
       "    <tr style=\"text-align: right;\">\n",
       "      <th></th>\n",
       "      <th>threshold</th>\n",
       "      <th>fpr</th>\n",
       "      <th>tpr</th>\n",
       "    </tr>\n",
       "  </thead>\n",
       "  <tbody>\n",
       "    <tr>\n",
       "      <th>0</th>\n",
       "      <td>2.000000</td>\n",
       "      <td>0.000000</td>\n",
       "      <td>0.000000</td>\n",
       "    </tr>\n",
       "    <tr>\n",
       "      <th>1</th>\n",
       "      <td>1.000000</td>\n",
       "      <td>0.024390</td>\n",
       "      <td>0.146341</td>\n",
       "    </tr>\n",
       "    <tr>\n",
       "      <th>2</th>\n",
       "      <td>0.888889</td>\n",
       "      <td>0.024390</td>\n",
       "      <td>0.195122</td>\n",
       "    </tr>\n",
       "    <tr>\n",
       "      <th>3</th>\n",
       "      <td>0.833333</td>\n",
       "      <td>0.073171</td>\n",
       "      <td>0.243902</td>\n",
       "    </tr>\n",
       "    <tr>\n",
       "      <th>4</th>\n",
       "      <td>0.822115</td>\n",
       "      <td>0.121951</td>\n",
       "      <td>0.243902</td>\n",
       "    </tr>\n",
       "    <tr>\n",
       "      <th>5</th>\n",
       "      <td>0.733333</td>\n",
       "      <td>0.146341</td>\n",
       "      <td>0.292683</td>\n",
       "    </tr>\n",
       "    <tr>\n",
       "      <th>6</th>\n",
       "      <td>0.732143</td>\n",
       "      <td>0.146341</td>\n",
       "      <td>0.317073</td>\n",
       "    </tr>\n",
       "    <tr>\n",
       "      <th>7</th>\n",
       "      <td>0.606452</td>\n",
       "      <td>0.195122</td>\n",
       "      <td>0.414634</td>\n",
       "    </tr>\n",
       "    <tr>\n",
       "      <th>8</th>\n",
       "      <td>0.577778</td>\n",
       "      <td>0.195122</td>\n",
       "      <td>0.439024</td>\n",
       "    </tr>\n",
       "    <tr>\n",
       "      <th>9</th>\n",
       "      <td>0.565789</td>\n",
       "      <td>0.243902</td>\n",
       "      <td>0.536585</td>\n",
       "    </tr>\n",
       "    <tr>\n",
       "      <th>10</th>\n",
       "      <td>0.541667</td>\n",
       "      <td>0.268293</td>\n",
       "      <td>0.560976</td>\n",
       "    </tr>\n",
       "    <tr>\n",
       "      <th>11</th>\n",
       "      <td>0.519231</td>\n",
       "      <td>0.268293</td>\n",
       "      <td>0.634146</td>\n",
       "    </tr>\n",
       "    <tr>\n",
       "      <th>12</th>\n",
       "      <td>0.474359</td>\n",
       "      <td>0.365854</td>\n",
       "      <td>0.658537</td>\n",
       "    </tr>\n",
       "    <tr>\n",
       "      <th>13</th>\n",
       "      <td>0.353383</td>\n",
       "      <td>0.439024</td>\n",
       "      <td>0.658537</td>\n",
       "    </tr>\n",
       "    <tr>\n",
       "      <th>14</th>\n",
       "      <td>0.333333</td>\n",
       "      <td>0.560976</td>\n",
       "      <td>0.707317</td>\n",
       "    </tr>\n",
       "    <tr>\n",
       "      <th>15</th>\n",
       "      <td>0.303412</td>\n",
       "      <td>0.878049</td>\n",
       "      <td>0.951220</td>\n",
       "    </tr>\n",
       "    <tr>\n",
       "      <th>16</th>\n",
       "      <td>0.250000</td>\n",
       "      <td>0.951220</td>\n",
       "      <td>0.951220</td>\n",
       "    </tr>\n",
       "    <tr>\n",
       "      <th>17</th>\n",
       "      <td>0.173445</td>\n",
       "      <td>0.951220</td>\n",
       "      <td>1.000000</td>\n",
       "    </tr>\n",
       "    <tr>\n",
       "      <th>18</th>\n",
       "      <td>0.000000</td>\n",
       "      <td>1.000000</td>\n",
       "      <td>1.000000</td>\n",
       "    </tr>\n",
       "  </tbody>\n",
       "</table>\n",
       "</div>"
      ],
      "text/plain": [
       "    threshold       fpr       tpr\n",
       "0    2.000000  0.000000  0.000000\n",
       "1    1.000000  0.024390  0.146341\n",
       "2    0.888889  0.024390  0.195122\n",
       "3    0.833333  0.073171  0.243902\n",
       "4    0.822115  0.121951  0.243902\n",
       "5    0.733333  0.146341  0.292683\n",
       "6    0.732143  0.146341  0.317073\n",
       "7    0.606452  0.195122  0.414634\n",
       "8    0.577778  0.195122  0.439024\n",
       "9    0.565789  0.243902  0.536585\n",
       "10   0.541667  0.268293  0.560976\n",
       "11   0.519231  0.268293  0.634146\n",
       "12   0.474359  0.365854  0.658537\n",
       "13   0.353383  0.439024  0.658537\n",
       "14   0.333333  0.560976  0.707317\n",
       "15   0.303412  0.878049  0.951220\n",
       "16   0.250000  0.951220  0.951220\n",
       "17   0.173445  0.951220  1.000000\n",
       "18   0.000000  1.000000  1.000000"
      ]
     },
     "execution_count": 116,
     "metadata": {},
     "output_type": "execute_result"
    }
   ],
   "source": [
    "# Creating a dataframe to select the threshold for a low false positive rate (fpr).\n",
    "# This dataframe corresponds to the ROC curve drawn above.\n",
    "\n",
    "th_fpr = pd.DataFrame({'threshold':threshold, 'fpr':fpr, 'tpr':tpr})\n",
    "th_fpr"
   ]
  },
  {
   "cell_type": "code",
   "execution_count": 129,
   "metadata": {},
   "outputs": [
    {
     "data": {
      "text/html": [
       "<div>\n",
       "<style scoped>\n",
       "    .dataframe tbody tr th:only-of-type {\n",
       "        vertical-align: middle;\n",
       "    }\n",
       "\n",
       "    .dataframe tbody tr th {\n",
       "        vertical-align: top;\n",
       "    }\n",
       "\n",
       "    .dataframe thead th {\n",
       "        text-align: right;\n",
       "    }\n",
       "</style>\n",
       "<table border=\"1\" class=\"dataframe\">\n",
       "  <thead>\n",
       "    <tr style=\"text-align: right;\">\n",
       "      <th></th>\n",
       "      <th>class_0_pp</th>\n",
       "      <th>class_1_pp</th>\n",
       "      <th>pred_class_thresh89</th>\n",
       "    </tr>\n",
       "  </thead>\n",
       "  <tbody>\n",
       "    <tr>\n",
       "      <th>0</th>\n",
       "      <td>0.646617</td>\n",
       "      <td>0.353383</td>\n",
       "      <td>0</td>\n",
       "    </tr>\n",
       "    <tr>\n",
       "      <th>1</th>\n",
       "      <td>0.434211</td>\n",
       "      <td>0.565789</td>\n",
       "      <td>0</td>\n",
       "    </tr>\n",
       "  </tbody>\n",
       "</table>\n",
       "</div>"
      ],
      "text/plain": [
       "   class_0_pp  class_1_pp  pred_class_thresh89\n",
       "0    0.646617    0.353383                    0\n",
       "1    0.434211    0.565789                    0"
      ]
     },
     "execution_count": 129,
     "metadata": {},
     "output_type": "execute_result"
    }
   ],
   "source": [
    "# Setting positive threshold at 0.888889 to minimise false positives\n",
    "\n",
    "y_pp = pd.DataFrame(yhat_pp, columns = ['class_0_pp','class_1_pp'])\n",
    "y_pp['pred_class_thresh89'] = [1 if x >= 0.888889 else 0 for x in y_pp.class_1_pp.values]\n",
    "y_pp.head(2)"
   ]
  },
  {
   "cell_type": "code",
   "execution_count": 130,
   "metadata": {},
   "outputs": [
    {
     "data": {
      "text/html": [
       "<div>\n",
       "<style scoped>\n",
       "    .dataframe tbody tr th:only-of-type {\n",
       "        vertical-align: middle;\n",
       "    }\n",
       "\n",
       "    .dataframe tbody tr th {\n",
       "        vertical-align: top;\n",
       "    }\n",
       "\n",
       "    .dataframe thead th {\n",
       "        text-align: right;\n",
       "    }\n",
       "</style>\n",
       "<table border=\"1\" class=\"dataframe\">\n",
       "  <thead>\n",
       "    <tr style=\"text-align: right;\">\n",
       "      <th></th>\n",
       "      <th>Predicted high salary</th>\n",
       "      <th>Predicted low salary</th>\n",
       "    </tr>\n",
       "  </thead>\n",
       "  <tbody>\n",
       "    <tr>\n",
       "      <th>Real high salary</th>\n",
       "      <td>6</td>\n",
       "      <td>35</td>\n",
       "    </tr>\n",
       "    <tr>\n",
       "      <th>Real low salary</th>\n",
       "      <td>1</td>\n",
       "      <td>40</td>\n",
       "    </tr>\n",
       "  </tbody>\n",
       "</table>\n",
       "</div>"
      ],
      "text/plain": [
       "                  Predicted high salary  Predicted low salary\n",
       "Real high salary                      6                    35\n",
       "Real low salary                       1                    40"
      ]
     },
     "execution_count": 130,
     "metadata": {},
     "output_type": "execute_result"
    }
   ],
   "source": [
    "# Drawing a new confusion matrix for the model with the threshold at 0.888889\n",
    "conmat = np.array(confusion_matrix(y_test, y_pp.pred_class_thresh89.values, labels=[1,0]))\n",
    "\n",
    "confusion = pd.DataFrame(conmat, index=['Real high salary', 'Real low salary'],\n",
    "                         columns=['Predicted high salary','Predicted low salary'])\n",
    "confusion"
   ]
  },
  {
   "cell_type": "markdown",
   "metadata": {},
   "source": [
    "To summarise this section, I looked at both the ROC curve and the dataframe containing the false positive rate, true positive rate, and their respective thresholds. Because I am interested in lowering the amount of false positives, I looked at a threshold that would minimise the amount of false positives while still keeping some true positives.\n",
    "\n",
    "As can be seen from the last confusion matrix though, this has come at a heavy price: the amount of true positives have fallen significantly, and these predictions have now turned into false negatives due to the increased threshold.\n",
    "\n",
    "Which threshold is preferable is, of course, completely subjective, and dependent on which mistakes we consider more costly."
   ]
  },
  {
   "cell_type": "markdown",
   "metadata": {},
   "source": [
    "## Conclusions"
   ]
  },
  {
   "cell_type": "markdown",
   "metadata": {},
   "source": [
    "I attempted to predict whether salaries for data science job listings on Indeed.com were above or below average (median), focusing at listings in 16 large US cities. \n",
    "\n",
    "To obtain the data, as a first step their website was scraped. Next, each listing’s job title, salary, location and company information were extracted and stored. The data obtained was cleaned and formatted, with the median salaries calculated from their average. \n",
    "\n",
    "New variables were created from the data available in the job titles. Based on keywords in job titles, jobs were classified as one of the following: junior role, senior role, very senior role, involving machine learning, involving data engineering. Note that the labels were not necessarily mutually exclusive and that a job listing (row) could have none of these attributes. \n",
    "\n",
    "As the junior and very senior role variables had extremely low correlation with the high/low salary variable, they were not used in any of the models. Using the rest of the new variables in conjunction with the previously mentioned city variables, a logistic regression and random forest classification were conducted. \n",
    " \n",
    "The random forest model performed the best after tuning some of the models’ parameters, obtaining an accuracy of over 68% on the test data - considerably higher than the baseline of about 0.5.\n",
    "\n",
    "As I was interested in minimising the amount of false positive predictions being made, that is, predicting that a job is high-paying when it in reality is not, the threshold for accepting predictions as true was raised to nearly 0.89. Although reducing the amount of false positives was reduced, this has come at a price: the amount of true positives have fallen significantly, and these predictions have now turned into false negatives due to the increased threshold. \n",
    "\n",
    "This means that whereas the final model makes very few mistakes in labelling low-paying jobs as high-paying ones, in its carefulness the amount of true positives has also considerably fallen, reducing the usefulness of the model in identifying which jobs are high-paying based on location and the variables extracted from the job titles."
   ]
  }
 ],
 "metadata": {
  "kernelspec": {
   "display_name": "Python 3",
   "language": "python",
   "name": "python3"
  },
  "language_info": {
   "codemirror_mode": {
    "name": "ipython",
    "version": 3
   },
   "file_extension": ".py",
   "mimetype": "text/x-python",
   "name": "python",
   "nbconvert_exporter": "python",
   "pygments_lexer": "ipython3",
   "version": "3.6.5"
  },
  "toc": {
   "nav_menu": {},
   "number_sections": false,
   "sideBar": true,
   "skip_h1_title": true,
   "title_cell": "Table of Contents",
   "title_sidebar": "Contents",
   "toc_cell": false,
   "toc_position": {},
   "toc_section_display": "block",
   "toc_window_display": false
  }
 },
 "nbformat": 4,
 "nbformat_minor": 1
}
